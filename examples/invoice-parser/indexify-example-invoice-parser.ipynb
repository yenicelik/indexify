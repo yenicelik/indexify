{
 "cells": [
  {
   "cell_type": "markdown",
   "metadata": {},
   "source": [
    "# Indexify Invoice Parsing Template"
   ]
  },
  {
   "cell_type": "markdown",
   "metadata": {},
   "source": [
    "In this notebook, we show you a demo of how you can use Indexify to solve all your data embedding needs. To give a concrete example, we will try to index a set of invoices.\n",
    "\n",
    "Specifically, we show you how you can\n",
    "1. spin up a local indexify instance\n",
    "2. create a new data-repository for a collection of data, in this case invoices\n",
    "3. bind existing extractors to our data-repository\n",
    "4. insert invoices\n",
    "5. how you can search & retrieve invoices\n",
    "\n",
    "<!-- I feel like the name \"repository\" is a bit too generic for data repository, it could be confused with extractor repository -->"
   ]
  },
  {
   "cell_type": "markdown",
   "metadata": {},
   "source": [
    "### (1) Spin up a local indexify instance\n",
    "\n",
    "First, let's spin up a local indexify instance\n",
    "\n",
    "```\n",
    "docker-compose up\n",
    "```\n",
    "\n",
    "That's it! This will be running the indexify server, alongside with the extractors that we want for invoice parsing.\n",
    "In this case, we will be using the [Advanced Invoice Extractor](https://github.com/tensorlakeai/indexify-extractors/tree/david/advanced-invoice-extractor/advanced-invoice-extractor) from the indexify hub, as well as the [MiniLM-6 Embedding Extractor](https://github.com/tensorlakeai/indexify-extractors/blob/david/advanced-invoice-extractor/embedding-extractors/minilm-l6/README.md) which can be used to do fulltext-search.\n",
    "\n",
    "Indexify is similar to kubernetes, docker, kafka or memcached if you used any of these applications before, it runs in the background as a binary.\n",
    "\n",
    "Now let us quickly validate that indexify is up and running."
   ]
  },
  {
   "cell_type": "code",
   "execution_count": 26,
   "metadata": {},
   "outputs": [],
   "source": [
    "# As a temporary dev solution, let's install sdk-py from the top-level directory\n",
    "# !(cd ../../sdk-py/ && pip install -e . )\n",
    "# !(cd ../../sdk-py/ && poetry install -e . )\n",
    "from indexify import IndexifyClient"
   ]
  },
  {
   "cell_type": "code",
   "execution_count": 27,
   "metadata": {},
   "outputs": [
    {
     "data": {
      "text/plain": [
       "[Repository(name=default), Repository(name=invoices)]"
      ]
     },
     "execution_count": 27,
     "metadata": {},
     "output_type": "execute_result"
    }
   ],
   "source": [
    "# Load the client\n",
    "client = IndexifyClient()\n",
    "\n",
    "# Double check that we don't already have any repositories installed\n",
    "client.repositories()"
   ]
  },
  {
   "cell_type": "markdown",
   "metadata": {},
   "source": [
    "We don't receive any errors when trying to connect to the default indexify server using the client, indexify seems to be up and running!"
   ]
  },
  {
   "cell_type": "markdown",
   "metadata": {},
   "source": [
    "### (2) Create a data-repository for invoices\n",
    "\n",
    "You can store data in different repositories.\n",
    "This is similar to databases in Postgres, or collections in MongoDB. \n",
    "This serves the purpose so that we can organize our datasets better. \n",
    "In our case, we will want to create a new repository for invoices, as all our invoices should go into the same \"collection\"."
   ]
  },
  {
   "cell_type": "code",
   "execution_count": 28,
   "metadata": {},
   "outputs": [
    {
     "data": {
      "text/plain": [
       "Repository(name=invoices)"
      ]
     },
     "execution_count": 28,
     "metadata": {},
     "output_type": "execute_result"
    }
   ],
   "source": [
    "client.create_repository(\"invoices\")"
   ]
  },
  {
   "cell_type": "code",
   "execution_count": 29,
   "metadata": {},
   "outputs": [
    {
     "data": {
      "text/plain": [
       "Repository(name=invoices)"
      ]
     },
     "execution_count": 29,
     "metadata": {},
     "output_type": "execute_result"
    }
   ],
   "source": [
    "invoice_data_repository = client.get_repository(\"invoices\")\n",
    "invoice_data_repository"
   ]
  },
  {
   "cell_type": "markdown",
   "metadata": {},
   "source": [
    "### (3) Bind existing extractors to our data-repository"
   ]
  },
  {
   "cell_type": "markdown",
   "metadata": {},
   "source": [
    "You can import existing extractors from the [indexify-hub](https://github.com/tensorlakeai/indexify-extractors), or write your own extractor using `indexify extractor new <extractor name>`. In this example, we will use the example [invoice-parsers](https://github.com/tensorlakeai/indexify-extractors/tree/main/invoice-extractor) which parses some basic data from our invoice.\n",
    "We already spun it in the local `docker-compose.yaml`. Alternatively, if you have any other extractors, you can spin them up in a docker container / kubernetes of your choice, and using the `docker run yenicelik/simple-invoice-parser extractor start --coordinator-addr http://localhost:8950`. Here, `http://localhost:8950` is where our local indexify server is running, and listening to new extractors. \n",
    "\n",
    "Let's quickly validate that our `simple-invoice-parser` extractor is running and found by our indexify server."
   ]
  },
  {
   "cell_type": "code",
   "execution_count": 33,
   "metadata": {},
   "outputs": [
    {
     "data": {
      "text/plain": [
       "[Extractor(name=yenicelik/simple-invoice-parser, description=Parses an invoice using the to-be/donut-base-finetuned-invoices huggingface model)]"
      ]
     },
     "execution_count": 33,
     "metadata": {},
     "output_type": "execute_result"
    }
   ],
   "source": [
    "# Let's bind the advanced invoice parser,\n",
    "# and the MiniLM-6 parser as well to this repository,\n",
    "# so work can begin in the background\n",
    "\n",
    "# First, let's see what extractors we have available\n",
    "client.extractors()"
   ]
  },
  {
   "cell_type": "markdown",
   "metadata": {},
   "source": [
    "Perfect! Let us also bind this extractor to the repository, so that all files in the repository are processed by this extractor. "
   ]
  },
  {
   "cell_type": "code",
   "execution_count": null,
   "metadata": {},
   "outputs": [],
   "source": [
    "# TODO: Bind the extractor\n",
    "# TODO: What is the outputs here?\n",
    "invoice_data_repository.bind_extractor(name=\"yenicelik/simple-invoice-parser\", outputs=\"\")"
   ]
  },
  {
   "cell_type": "markdown",
   "metadata": {},
   "source": [
    "### (4) Insert Invoices"
   ]
  },
  {
   "cell_type": "markdown",
   "metadata": {},
   "source": [
    "We can now insert invoices. For simplicity, we attached a couple of invoices in the `data/` directory of this example folder."
   ]
  },
  {
   "cell_type": "code",
   "execution_count": null,
   "metadata": {},
   "outputs": [],
   "source": [
    "# TODO: Load documents, and then add them here\n",
    "invoice_data_repository.add_documents()"
   ]
  },
  {
   "cell_type": "markdown",
   "metadata": {},
   "source": [
    "Next, let us load the invoice"
   ]
  },
  {
   "cell_type": "markdown",
   "metadata": {},
   "source": [
    "Create a repository where we will be inputting all our files"
   ]
  },
  {
   "cell_type": "markdown",
   "metadata": {},
   "source": [
    "Add an extractor to the repository. This extractor is already running in the background as a docker image. "
   ]
  },
  {
   "cell_type": "markdown",
   "metadata": {},
   "source": [
    "### (5) Search for Invoices"
   ]
  },
  {
   "cell_type": "code",
   "execution_count": null,
   "metadata": {},
   "outputs": [],
   "source": [
    "\n",
    "\n",
    "indexify_extractor_sdk."
   ]
  }
 ],
 "metadata": {
  "kernelspec": {
   "display_name": "Python 3 (ipykernel)",
   "language": "python",
   "name": "python3"
  }
 },
 "nbformat": 4,
 "nbformat_minor": 2
}
