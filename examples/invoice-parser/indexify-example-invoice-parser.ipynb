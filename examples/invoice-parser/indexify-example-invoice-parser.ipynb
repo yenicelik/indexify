{
 "cells": [
  {
   "cell_type": "markdown",
   "metadata": {},
   "source": [
    "# Indexify Invoice Parsing Template"
   ]
  },
  {
   "cell_type": "markdown",
   "metadata": {},
   "source": [
    "In this notebook, we show you a demo of how you can use Indexify to solve all your data embedding needs. To give a concrete example, we will try to index a set of invoices.\n",
    "\n",
    "Specifically, we show you how you can\n",
    "1. spin up a local indexify instance\n",
    "2. create a new data-repository for a collection of data, in this case invoices\n",
    "3. bind existing extractors to our data-repository\n",
    "4. insert invoices\n",
    "5. how you can search & retrieve invoices\n",
    "\n",
    "<!-- I feel like the name \"repository\" is a bit too generic for data repository, it could be confused with extractor repository -->"
   ]
  },
  {
   "cell_type": "code",
   "execution_count": 21,
   "metadata": {},
   "outputs": [],
   "source": [
    "# As a temporary dev solution, let's install sdk-py from the top-level directory\n",
    "# !(cd ../../sdk-py/ && pip install -e . )\n",
    "# !(cd ../../sdk-py/ && poetry install -e . )\n",
    "from indexify import IndexifyClient"
   ]
  },
  {
   "cell_type": "code",
   "execution_count": 22,
   "metadata": {},
   "outputs": [
    {
     "data": {
      "text/plain": [
       "[Repository(name=default)]"
      ]
     },
     "execution_count": 22,
     "metadata": {},
     "output_type": "execute_result"
    }
   ],
   "source": [
    "# Load the client\n",
    "client = IndexifyClient()\n",
    "\n",
    "# Double check that we don't already have any repositories installed\n",
    "client.repositories()"
   ]
  },
  {
   "cell_type": "code",
   "execution_count": 23,
   "metadata": {},
   "outputs": [
    {
     "data": {
      "text/plain": [
       "Repository(name=invoices)"
      ]
     },
     "execution_count": 23,
     "metadata": {},
     "output_type": "execute_result"
    }
   ],
   "source": [
    "client.create_repository(\"invoices\")"
   ]
  },
  {
   "cell_type": "code",
   "execution_count": 24,
   "metadata": {},
   "outputs": [
    {
     "data": {
      "text/plain": [
       "Repository(name=invoices)"
      ]
     },
     "execution_count": 24,
     "metadata": {},
     "output_type": "execute_result"
    }
   ],
   "source": [
    "invoice_data_repository = client.get_repository(\"invoices\")\n",
    "invoice_data_repository"
   ]
  },
  {
   "cell_type": "code",
   "execution_count": 25,
   "metadata": {},
   "outputs": [
    {
     "data": {
      "text/plain": [
       "[]"
      ]
     },
     "execution_count": 25,
     "metadata": {},
     "output_type": "execute_result"
    }
   ],
   "source": [
    "# Let's bind the advanced invoice parser,\n",
    "# and the MiniLM-6 parser as well to this repository,\n",
    "# so work can begin in the background\n",
    "\n",
    "# First, let's see what extractors we have available\n",
    "client.extractors()"
   ]
  },
  {
   "cell_type": "code",
   "execution_count": null,
   "metadata": {},
   "outputs": [],
   "source": []
  },
  {
   "cell_type": "markdown",
   "metadata": {},
   "source": [
    "### (1) Spin up a local indexify instance\n",
    "\n",
    "First, let's spin up a local indexify instance\n",
    "\n",
    "```\n",
    "docker-compose up\n",
    "```\n",
    "\n",
    "That's it! This will be running the indexify server, alongside with the extractors that we want for invoice parsing.\n",
    "In this case, we will be using the [Advanced Invoice Extractor](https://github.com/tensorlakeai/indexify-extractors/tree/david/advanced-invoice-extractor/advanced-invoice-extractor) from the indexify hub, as well as the [MiniLM-6 Embedding Extractor](https://github.com/tensorlakeai/indexify-extractors/blob/david/advanced-invoice-extractor/embedding-extractors/minilm-l6/README.md) which can be used to do fulltext-search.\n",
    "\n",
    "Indexify is similar to kubernetes, docker, kafka or memcached if you used any of these applications before, it runs in the background as a binary.\n"
   ]
  },
  {
   "cell_type": "markdown",
   "metadata": {},
   "source": [
    "### (2) Create a data-repository for invoices\n",
    "\n",
    "You can store data in different repositories.\n",
    "This is similar to databases in Postgres, or collections in MongoDB. \n",
    "This serves the purpose so that we can organize our datasets better. \n",
    "In our case, we will want to create a new repository for invoices, as all our invoices should go into the same \"collection\"."
   ]
  },
  {
   "cell_type": "code",
   "execution_count": null,
   "metadata": {},
   "outputs": [],
   "source": [
    "indexify_extractor_sdk."
   ]
  },
  {
   "cell_type": "markdown",
   "metadata": {},
   "source": [
    "Next, let us load the invoice"
   ]
  },
  {
   "cell_type": "markdown",
   "metadata": {},
   "source": [
    "Create a repository where we will be inputting all our files"
   ]
  },
  {
   "cell_type": "markdown",
   "metadata": {},
   "source": [
    "Add an extractor to the repository. This extractor is already running in the background as a docker image. "
   ]
  },
  {
   "cell_type": "code",
   "execution_count": null,
   "metadata": {},
   "outputs": [],
   "source": [
    "\n",
    "\n",
    "indexify_extractor_sdk."
   ]
  }
 ],
 "metadata": {
  "kernelspec": {
   "display_name": "Python 3 (ipykernel)",
   "language": "python",
   "name": "python3"
  },
  "language_info": {
   "codemirror_mode": {
    "name": "ipython",
    "version": 3
   },
   "file_extension": ".py",
   "mimetype": "text/x-python",
   "name": "python",
   "nbconvert_exporter": "python",
   "pygments_lexer": "ipython3",
   "version": "3.11.6"
  }
 },
 "nbformat": 4,
 "nbformat_minor": 2
}
